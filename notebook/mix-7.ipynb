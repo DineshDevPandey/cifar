{
 "cells": [
  {
   "cell_type": "markdown",
   "metadata": {},
   "source": [
    "# Objective\n",
    "\n",
    "Create a combined network of autoencoder and classifier to classify CIFAR10 data."
   ]
  },
  {
   "cell_type": "markdown",
   "metadata": {
    "ExecuteTime": {
     "end_time": "2020-01-03T05:13:25.634527Z",
     "start_time": "2020-01-03T05:13:25.630599Z"
    }
   },
   "source": [
    "<hr></hr>"
   ]
  },
  {
   "cell_type": "markdown",
   "metadata": {},
   "source": [
    "### Constraints\n",
    "1. Use only 50% data of classes bird, deer and truck\n",
    "2. Use output of encoder part of autoencoder as input of classifier"
   ]
  },
  {
   "cell_type": "markdown",
   "metadata": {},
   "source": [
    "### Approach \n",
    "- Create a custom dataset which reads only 50% of bird, deer and truck, remaining classes 100%\n",
    "- Create sampler which assignes weights to different classes to deal with imbalance dataset\n",
    "- Use Image augmentation to inhance performance of classifire \n",
    "- Use stacked convolutional autoencoder to get most important features of input image\n",
    "- Use convolutional neural network to classify images\n",
    "- Use encoded output of autoencoder and use as input to CNN"
   ]
  },
  {
   "cell_type": "markdown",
   "metadata": {},
   "source": [
    "<hr></hr>"
   ]
  },
  {
   "cell_type": "code",
   "execution_count": 1,
   "metadata": {
    "ExecuteTime": {
     "end_time": "2020-01-05T17:56:47.548474Z",
     "start_time": "2020-01-05T17:56:47.064476Z"
    }
   },
   "outputs": [],
   "source": [
    "import torch\n",
    "import numpy as np\n",
    "import torch.nn as nn\n",
    "import torch.cuda as cuda\n",
    "import matplotlib.pyplot as plt\n",
    "from torchvision import datasets\n",
    "from torchvision import transforms\n",
    "from torch.autograd import Variable\n",
    "from torch.utils.data import Subset\n",
    "from torch.utils.data import Dataset\n",
    "from torch.nn import functional as F"
   ]
  },
  {
   "cell_type": "markdown",
   "metadata": {},
   "source": [
    "### Dataset"
   ]
  },
  {
   "cell_type": "markdown",
   "metadata": {},
   "source": [
    "The CIFAR-10 dataset consists of 60000 32x32 colour images in 10 classes, with 6000 images per class. There are 50000 training images and 10000 test images."
   ]
  },
  {
   "cell_type": "markdown",
   "metadata": {},
   "source": [
    "![image.png](attachment:image.png)"
   ]
  },
  {
   "cell_type": "markdown",
   "metadata": {},
   "source": [
    "### Image augmentation"
   ]
  },
  {
   "cell_type": "code",
   "execution_count": 2,
   "metadata": {
    "ExecuteTime": {
     "end_time": "2020-01-05T17:56:47.552984Z",
     "start_time": "2020-01-05T17:56:47.550135Z"
    }
   },
   "outputs": [],
   "source": [
    "# transformation for validation data\n",
    "transform_valid = transforms.Compose([transforms.Resize((32,32)),\n",
    "                                      transforms.ToTensor(),\n",
    "                                      transforms.Normalize((0.5, 0.5, 0.5), (0.5, 0.5, 0.5))\n",
    "                               ])\n"
   ]
  },
  {
   "cell_type": "markdown",
   "metadata": {},
   "source": [
    "### Custom dataset for filtering classes"
   ]
  },
  {
   "cell_type": "code",
   "execution_count": 3,
   "metadata": {
    "ExecuteTime": {
     "end_time": "2020-01-05T17:56:47.561448Z",
     "start_time": "2020-01-05T17:56:47.554438Z"
    }
   },
   "outputs": [],
   "source": [
    "\n",
    "class CifarCustomTrainDataset(Dataset):\n",
    "    def __init__(self, transforms=None):\n",
    "        '''\n",
    "        Create a dataset with only 50% of bird, deer and truck classes, remaining classes with 100%\n",
    "        '''\n",
    "        self.transforms = transforms\n",
    "        self.cifar10_train = datasets.CIFAR10('../data', train=True, download=True)\n",
    "        self.truck_indices, self.deer_indices, self.bird_indices, self.other_indices = [], [], [], []\n",
    "        truck_idx, deer_idx, bird_idx = self.cifar10_train.class_to_idx['truck'], self.cifar10_train.class_to_idx['deer'], self.cifar10_train.class_to_idx['bird']\n",
    "        \n",
    "        for i in range(len(self.cifar10_train)):\n",
    "          current_class = self.cifar10_train[i][1]\n",
    "          if current_class == truck_idx:\n",
    "            self.truck_indices.append(i)\n",
    "          elif current_class == deer_idx:\n",
    "            self.deer_indices.append(i)\n",
    "          elif current_class == bird_idx:\n",
    "            self.bird_indices.append(i)\n",
    "          else:\n",
    "            self.other_indices.append(i)\n",
    "    \n",
    "        self.truck_indices = self.truck_indices[:int(0.5 * len(self.truck_indices))]\n",
    "        self.deer_indices = self.deer_indices[:int(0.5 * len(self.deer_indices))]\n",
    "        self.bird_indices = self.bird_indices[:int(0.5 * len(self.bird_indices))]\n",
    "        self.cifar_10 = Subset(self.cifar10_train, self.truck_indices+self.deer_indices+self.bird_indices+self.other_indices)\n",
    "\n",
    "    def __len__(self):\n",
    "        return len(self.cifar_10)\n",
    "\n",
    "    def __getitem__(self, idx):\n",
    "        data = self.cifar_10[idx]\n",
    "        if self.transforms is not None:\n",
    "            data = (self.transforms(data[0]),data[1])\n",
    "        return data \n",
    "    \n",
    "    # image counter function for weight calculation\n",
    "    def get_label(self, idx):\n",
    "        data = self.cifar_10[idx]\n",
    "        return data[1]\n",
    "        "
   ]
  },
  {
   "cell_type": "markdown",
   "metadata": {},
   "source": [
    "### training and validation dataset"
   ]
  },
  {
   "cell_type": "code",
   "execution_count": 4,
   "metadata": {
    "ExecuteTime": {
     "end_time": "2020-01-05T17:56:51.505922Z",
     "start_time": "2020-01-05T17:56:47.562872Z"
    }
   },
   "outputs": [
    {
     "name": "stdout",
     "output_type": "stream",
     "text": [
      "Files already downloaded and verified\n",
      "Files already downloaded and verified\n",
      "train data size :  42500\n",
      "valid data size :  10000\n",
      "truck size      :  2500\n",
      "deer size       :  2500\n",
      "bird size       :  2500\n",
      "other size      :  35000\n"
     ]
    }
   ],
   "source": [
    "valid_dataset = datasets.CIFAR10('../data', train=False, download=True, transform=transform_valid)\n",
    "train_dataset = CifarCustomTrainDataset(transform_valid)\n",
    "print(\"train data size : \", len(train_dataset))\n",
    "print(\"valid data size : \", len(valid_dataset))\n",
    "print(\"truck size      : \", len(train_dataset.truck_indices))\n",
    "print(\"deer size       : \", len(train_dataset.deer_indices))\n",
    "print(\"bird size       : \", len(train_dataset.bird_indices))\n",
    "print(\"other size      : \", len(train_dataset.other_indices))"
   ]
  },
  {
   "cell_type": "markdown",
   "metadata": {},
   "source": [
    "### Data sampler to handle imbalance dataset"
   ]
  },
  {
   "cell_type": "code",
   "execution_count": 5,
   "metadata": {
    "ExecuteTime": {
     "end_time": "2020-01-05T17:56:51.513535Z",
     "start_time": "2020-01-05T17:56:51.507565Z"
    }
   },
   "outputs": [],
   "source": [
    "\n",
    "class ImbalancedDatasetSampler(torch.utils.data.sampler.Sampler):\n",
    "    \"\"\"Samples elements randomly from a given list of indices for imbalanced dataset\n",
    "    Arguments:\n",
    "        indices (list, optional): a list of indices\n",
    "        num_samples (int, optional): number of samples to draw\n",
    "    \"\"\"\n",
    "\n",
    "    def __init__(self, dataset, indices=None, num_samples=None):\n",
    "                \n",
    "        # if indices is not provided, \n",
    "        # all elements in the dataset will be considered\n",
    "        self.indices = list(range(len(dataset))) \\\n",
    "            if indices is None else indices\n",
    "            \n",
    "        # if num_samples is not provided, \n",
    "        # draw `len(indices)` samples in each iteration\n",
    "        self.num_samples = len(self.indices) \\\n",
    "            if num_samples is None else num_samples\n",
    "            \n",
    "        # distribution of classes in the dataset \n",
    "        label_to_count = {}\n",
    "        for idx in self.indices:\n",
    "            label = self._get_label(dataset, idx)\n",
    "            if label in label_to_count:\n",
    "                label_to_count[label] += 1\n",
    "            else:\n",
    "                label_to_count[label] = 1\n",
    "                                \n",
    "        # weight for each sample\n",
    "        weights = [1.0 / label_to_count[self._get_label(dataset, idx)]\n",
    "                   for idx in self.indices]\n",
    "        self.weights = torch.DoubleTensor(weights)\n",
    "\n",
    "    def _get_label(self, dataset, idx):        \n",
    "        return dataset.get_label(idx)\n",
    "                \n",
    "    def __iter__(self):\n",
    "        return (self.indices[i] for i in torch.multinomial(\n",
    "            self.weights, self.num_samples, replacement=True))\n",
    "\n",
    "    def __len__(self):\n",
    "        return self.num_samples\n",
    "        "
   ]
  },
  {
   "cell_type": "code",
   "execution_count": 6,
   "metadata": {
    "ExecuteTime": {
     "end_time": "2020-01-05T17:56:55.177829Z",
     "start_time": "2020-01-05T17:56:51.514981Z"
    }
   },
   "outputs": [],
   "source": [
    "sampler = ImbalancedDatasetSampler(train_dataset)"
   ]
  },
  {
   "cell_type": "markdown",
   "metadata": {},
   "source": [
    "**Some hyper parameters**"
   ]
  },
  {
   "cell_type": "code",
   "execution_count": 7,
   "metadata": {
    "ExecuteTime": {
     "end_time": "2020-01-05T17:56:55.181843Z",
     "start_time": "2020-01-05T17:56:55.179430Z"
    }
   },
   "outputs": [],
   "source": [
    "batch_size = 100 \n",
    "learning_rate = 0.0001\n",
    "num_epochs = 60\n",
    "weight_decay=0.001"
   ]
  },
  {
   "cell_type": "markdown",
   "metadata": {},
   "source": [
    "**Create the dataloader**"
   ]
  },
  {
   "cell_type": "code",
   "execution_count": 8,
   "metadata": {
    "ExecuteTime": {
     "end_time": "2020-01-05T17:56:55.186071Z",
     "start_time": "2020-01-05T17:56:55.183348Z"
    }
   },
   "outputs": [],
   "source": [
    "cifar10_train_loader = torch.utils.data.DataLoader(train_dataset, batch_size=batch_size, shuffle=False, num_workers=1, sampler=sampler)\n",
    "cifar10_valid_loader = torch.utils.data.DataLoader(valid_dataset, batch_size=batch_size, shuffle=True, num_workers=1)"
   ]
  },
  {
   "cell_type": "markdown",
   "metadata": {},
   "source": [
    "**Utility to display the original and output image of autoencoder**"
   ]
  },
  {
   "cell_type": "code",
   "execution_count": 9,
   "metadata": {
    "ExecuteTime": {
     "end_time": "2020-01-05T17:56:55.191503Z",
     "start_time": "2020-01-05T17:56:55.187472Z"
    }
   },
   "outputs": [],
   "source": [
    "def show_img(orig, denoised):\n",
    "    fig=plt.figure()\n",
    "    \n",
    "    orig = orig.swapaxes(0, 1).swapaxes(1, 2)\n",
    "    denoised = denoised.swapaxes(0, 1).swapaxes(1, 2)\n",
    "    \n",
    "    # Normalize for display purpose\n",
    "    orig     = (orig - orig.min()) / (orig.max() - orig.min())\n",
    "    denoised = (denoised - denoised.min()) / (denoised.max() - denoised.min())\n",
    "    \n",
    "    fig.add_subplot(1, 3, 1, title='Original')\n",
    "    plt.imshow(orig)\n",
    "    \n",
    "    fig.add_subplot(1, 3, 3, title='Denoised')\n",
    "    plt.imshow(denoised)\n",
    "    \n",
    "    fig.subplots_adjust(wspace = 0.5)\n",
    "    plt.show()"
   ]
  },
  {
   "cell_type": "markdown",
   "metadata": {},
   "source": [
    "### Classifier (CNN)"
   ]
  },
  {
   "cell_type": "code",
   "execution_count": 10,
   "metadata": {
    "ExecuteTime": {
     "end_time": "2020-01-05T17:56:55.200766Z",
     "start_time": "2020-01-05T17:56:55.192928Z"
    }
   },
   "outputs": [],
   "source": [
    "class CNN(nn.Module):\n",
    "    def __init__(self):\n",
    "      super().__init__()\n",
    "                                                                          # 8 x 8 x 200 input\n",
    "      self.conv1 = nn.Conv2d(200, 512, 3, 1, padding=1)                   # 8 x 8 x 300\n",
    "      self.bn1 = nn.BatchNorm2d(512)\n",
    "      self.do1 = nn.Dropout(0.5)\n",
    "      self.mp1 = nn.MaxPool2d(2, stride=2)                              # 4 x 4 x 300\n",
    "    \n",
    "      self.conv2 = nn.Conv2d(512, 1024, 3, 1, padding=1)                   # 4 x 4 x 400\n",
    "      self.bn2 = nn.BatchNorm2d(1024)\n",
    "      self.do2 = nn.Dropout(0.5)\n",
    "      self.mp2   = nn.MaxPool2d(2, stride=2)                              # 2 x 2 x 400\n",
    "      \n",
    "      self.fc3 = nn.Linear(2*2*1024, 512)\n",
    "      self.bn3 = nn.BatchNorm1d(512)\n",
    "      self.do3 = nn.Dropout(0.5)\n",
    "    \n",
    "      self.fc4 = nn.Linear(512, 512)\n",
    "      self.bn4 = nn.BatchNorm1d(512)\n",
    "      self.do4 = nn.Dropout(0.5)\n",
    "    \n",
    "      self.fc5 = nn.Linear(512, 256)\n",
    "      self.bn5 = nn.BatchNorm1d(256)\n",
    "      self.do5 = nn.Dropout(0.5)\n",
    "      \n",
    "      self.fc6 = nn.Linear(256, 10)\n",
    "    \n",
    "    def forward(self, x):\n",
    "      x = self.mp1(self.do1(self.bn1(F.relu(self.conv1(x)))))\n",
    "      x = self.mp2(self.do2(self.bn2(F.relu(self.conv2(x)))))\n",
    "      \n",
    "      x = x.view(-1, 2*2*1024)\n",
    "        \n",
    "      x = self.do3(self.bn3(F.relu(self.fc3(x))))\n",
    "      x = self.do4(self.bn4(F.relu(self.fc4(x))))\n",
    "      x = self.do5(self.bn5(F.relu(self.fc5(x))))\n",
    "    \n",
    "      x = self.fc6(x)\n",
    "      return x"
   ]
  },
  {
   "cell_type": "markdown",
   "metadata": {},
   "source": [
    "### Convolutional Autoencoder"
   ]
  },
  {
   "cell_type": "code",
   "execution_count": 11,
   "metadata": {
    "ExecuteTime": {
     "end_time": "2020-01-05T17:56:55.209420Z",
     "start_time": "2020-01-05T17:56:55.202215Z"
    }
   },
   "outputs": [],
   "source": [
    "class Autoencoder(nn.Module):\n",
    "    \n",
    "    def __init__(self):\n",
    "    \n",
    "        super(Autoencoder, self).__init__()\n",
    "                                                                            # 32 x 32 x 3 (input)\n",
    "        self.conv1 = nn.Conv2d(3, 100, 5, stride=1, padding=2)              # 32 x 32 x 100 \n",
    "        self.bn1 = nn.BatchNorm2d(100)\n",
    "        self.mp1e   = nn.MaxPool2d(2, stride=2, return_indices=True)        # 11 x 11 x 256\n",
    "        self.conv2 = nn.Conv2d(100, 150, 5, stride=1, padding=2)            # 16 x 16 x 150 \n",
    "        self.bn2 = nn.BatchNorm2d(150)\n",
    "        self.mp2e   = nn.MaxPool2d(2, stride=2, return_indices=True)        # 16 x 16 x 150 \n",
    "        self.conv3 = nn.Conv2d(150, 200, 3, stride=1, padding=1)            # 8 x 8 x 200\n",
    "        \n",
    "        self.conv4 = nn.ConvTranspose2d(200, 150, 3, stride=1, padding=1)   # 8 x 8 x 200\n",
    "        self.mp1d = nn.MaxUnpool2d(2)                                       # 8 x 8 x 150\n",
    "        self.bn3 = nn.BatchNorm2d(150)\n",
    "        self.conv5 = nn.ConvTranspose2d(150, 100, 5, stride=1, padding=2)   # 16 x 16 x 150\n",
    "        self.mp2d = nn.MaxUnpool2d(2)                                       # 16 x 16 x 100\n",
    "        self.bn4 = nn.BatchNorm2d(100)\n",
    "        self.conv6 = nn.ConvTranspose2d(100, 3, 5, stride=1, padding=2)   # 32 x 32 x 100 \n",
    "        \n",
    "    \n",
    "    def forward(self, x):\n",
    "        # Encoder\n",
    "        x = self.conv1(x)\n",
    "        x = self.bn1(x)\n",
    "        x = F.relu(x)\n",
    "        x, i_mp1e = self.mp1e(x)\n",
    "        \n",
    "        x = self.conv2(x)\n",
    "        x = self.bn2(x)\n",
    "        x = F.relu(x)\n",
    "        x, i_mp2e = self.mp2e(x)\n",
    "        \n",
    "        features = self.conv3(x)\n",
    "        \n",
    "         # Decoder\n",
    "        y = self.conv4(features)\n",
    "        y = self.bn3(y)\n",
    "        y = F.relu(y)\n",
    "        y = self.mp1d(y, i_mp2e)\n",
    "        \n",
    "        y = self.conv5(y)\n",
    "        y = self.bn4(y)\n",
    "        y = F.relu(y)\n",
    "        y = self.mp1d(y, i_mp1e)\n",
    "        \n",
    "        output = self.conv6(y)\n",
    "      \n",
    "        return features, output\n"
   ]
  },
  {
   "cell_type": "markdown",
   "metadata": {},
   "source": [
    "**The Denoising Autoencoder**"
   ]
  },
  {
   "cell_type": "code",
   "execution_count": 12,
   "metadata": {
    "ExecuteTime": {
     "end_time": "2020-01-05T17:56:57.883569Z",
     "start_time": "2020-01-05T17:56:55.210865Z"
    }
   },
   "outputs": [
    {
     "data": {
      "text/plain": [
       "Autoencoder(\n",
       "  (conv1): Conv2d(3, 100, kernel_size=(5, 5), stride=(1, 1), padding=(2, 2))\n",
       "  (bn1): BatchNorm2d(100, eps=1e-05, momentum=0.1, affine=True, track_running_stats=True)\n",
       "  (mp1e): MaxPool2d(kernel_size=2, stride=2, padding=0, dilation=1, ceil_mode=False)\n",
       "  (conv2): Conv2d(100, 150, kernel_size=(5, 5), stride=(1, 1), padding=(2, 2))\n",
       "  (bn2): BatchNorm2d(150, eps=1e-05, momentum=0.1, affine=True, track_running_stats=True)\n",
       "  (mp2e): MaxPool2d(kernel_size=2, stride=2, padding=0, dilation=1, ceil_mode=False)\n",
       "  (conv3): Conv2d(150, 200, kernel_size=(3, 3), stride=(1, 1), padding=(1, 1))\n",
       "  (conv4): ConvTranspose2d(200, 150, kernel_size=(3, 3), stride=(1, 1), padding=(1, 1))\n",
       "  (mp1d): MaxUnpool2d(kernel_size=(2, 2), stride=(2, 2), padding=(0, 0))\n",
       "  (bn3): BatchNorm2d(150, eps=1e-05, momentum=0.1, affine=True, track_running_stats=True)\n",
       "  (conv5): ConvTranspose2d(150, 100, kernel_size=(5, 5), stride=(1, 1), padding=(2, 2))\n",
       "  (mp2d): MaxUnpool2d(kernel_size=(2, 2), stride=(2, 2), padding=(0, 0))\n",
       "  (bn4): BatchNorm2d(100, eps=1e-05, momentum=0.1, affine=True, track_running_stats=True)\n",
       "  (conv6): ConvTranspose2d(100, 3, kernel_size=(5, 5), stride=(1, 1), padding=(2, 2))\n",
       ")"
      ]
     },
     "execution_count": 12,
     "metadata": {},
     "output_type": "execute_result"
    }
   ],
   "source": [
    "autoencoder = Autoencoder().cuda()\n",
    "parameters = list(autoencoder.parameters())\n",
    "loss_func = nn.MSELoss()\n",
    "optimizer = torch.optim.Adam(parameters, lr=learning_rate, weight_decay=weight_decay)\n",
    "autoencoder"
   ]
  },
  {
   "cell_type": "code",
   "execution_count": 13,
   "metadata": {
    "ExecuteTime": {
     "end_time": "2020-01-05T17:56:58.007569Z",
     "start_time": "2020-01-05T17:56:57.885131Z"
    }
   },
   "outputs": [
    {
     "data": {
      "text/plain": [
       "CNN(\n",
       "  (conv1): Conv2d(200, 512, kernel_size=(3, 3), stride=(1, 1), padding=(1, 1))\n",
       "  (bn1): BatchNorm2d(512, eps=1e-05, momentum=0.1, affine=True, track_running_stats=True)\n",
       "  (do1): Dropout(p=0.5)\n",
       "  (mp1): MaxPool2d(kernel_size=2, stride=2, padding=0, dilation=1, ceil_mode=False)\n",
       "  (conv2): Conv2d(512, 1024, kernel_size=(3, 3), stride=(1, 1), padding=(1, 1))\n",
       "  (bn2): BatchNorm2d(1024, eps=1e-05, momentum=0.1, affine=True, track_running_stats=True)\n",
       "  (do2): Dropout(p=0.5)\n",
       "  (mp2): MaxPool2d(kernel_size=2, stride=2, padding=0, dilation=1, ceil_mode=False)\n",
       "  (fc3): Linear(in_features=4096, out_features=512, bias=True)\n",
       "  (bn3): BatchNorm1d(512, eps=1e-05, momentum=0.1, affine=True, track_running_stats=True)\n",
       "  (do3): Dropout(p=0.5)\n",
       "  (fc4): Linear(in_features=512, out_features=512, bias=True)\n",
       "  (bn4): BatchNorm1d(512, eps=1e-05, momentum=0.1, affine=True, track_running_stats=True)\n",
       "  (do4): Dropout(p=0.5)\n",
       "  (fc5): Linear(in_features=512, out_features=256, bias=True)\n",
       "  (bn5): BatchNorm1d(256, eps=1e-05, momentum=0.1, affine=True, track_running_stats=True)\n",
       "  (do5): Dropout(p=0.5)\n",
       "  (fc6): Linear(in_features=256, out_features=10, bias=True)\n",
       ")"
      ]
     },
     "execution_count": 13,
     "metadata": {},
     "output_type": "execute_result"
    }
   ],
   "source": [
    "cnn = CNN().cuda()\n",
    "parameters_cnn = list(cnn.parameters())\n",
    "loss_func_cnn = nn.CrossEntropyLoss()\n",
    "optimizer_cnn = torch.optim.Adam(parameters_cnn, lr=learning_rate, weight_decay=weight_decay)\n",
    "cnn"
   ]
  },
  {
   "cell_type": "code",
   "execution_count": 14,
   "metadata": {
    "ExecuteTime": {
     "end_time": "2020-01-05T19:12:36.183208Z",
     "start_time": "2020-01-05T17:56:58.009189Z"
    },
    "scrolled": true
   },
   "outputs": [
    {
     "data": {
      "image/png": "[encoded data removed]",
      "text/plain": [
       "<Figure size 432x288 with 2 Axes>"
      ]
     },
     "metadata": {},
     "output_type": "display_data"
    },
    {
     "name": "stdout",
     "output_type": "stream",
     "text": [
      "aen loss epoch [1/60], train:35.1729,  valid:2.8893\n",
      "cnn loss epoch [1/60], train:1.9672,  valid:1.8618\n",
      "cnn acc  epoch [1/60],                             train:27.81%, valid:35.24%\n",
      "cnn acc  epoch [2/60],                             train:44.18%, valid:42.27%\n",
      "cnn acc  epoch [3/60],                             train:52.71%, valid:44.98%\n",
      "cnn acc  epoch [4/60],                             train:58.50%, valid:56.67%\n",
      "cnn acc  epoch [5/60],                             train:62.68%, valid:58.06%\n",
      "cnn acc  epoch [6/60],                             train:66.39%, valid:63.61%\n",
      "cnn acc  epoch [7/60],                             train:69.09%, valid:64.80%\n",
      "cnn acc  epoch [8/60],                             train:71.87%, valid:63.19%\n",
      "cnn acc  epoch [9/60],                             train:73.59%, valid:66.59%\n",
      "cnn acc  epoch [10/60],                             train:74.37%, valid:68.53%\n",
      "cnn acc  epoch [11/60],                             train:76.50%, valid:70.56%\n",
      "cnn acc  epoch [12/60],                             train:77.31%, valid:69.03%\n",
      "cnn acc  epoch [13/60],                             train:78.59%, valid:73.49%\n",
      "cnn acc  epoch [14/60],                             train:79.82%, valid:72.50%\n",
      "cnn acc  epoch [15/60],                             train:80.56%, valid:70.97%\n",
      "cnn acc  epoch [16/60],                             train:80.99%, valid:71.76%\n",
      "cnn acc  epoch [17/60],                             train:82.16%, valid:73.84%\n",
      "cnn acc  epoch [18/60],                             train:83.42%, valid:74.75%\n",
      "cnn acc  epoch [19/60],                             train:83.66%, valid:72.70%\n",
      "cnn acc  epoch [20/60],                             train:84.52%, valid:75.25%\n",
      "cnn acc  epoch [21/60],                             train:85.43%, valid:75.58%\n",
      "cnn acc  epoch [22/60],                             train:85.94%, valid:75.47%\n",
      "cnn acc  epoch [23/60],                             train:86.36%, valid:74.76%\n",
      "cnn acc  epoch [24/60],                             train:86.77%, valid:75.11%\n",
      "cnn acc  epoch [25/60],                             train:87.57%, valid:75.06%\n",
      "cnn acc  epoch [26/60],                             train:87.60%, valid:75.03%\n",
      "cnn acc  epoch [27/60],                             train:88.06%, valid:76.41%\n",
      "cnn acc  epoch [28/60],                             train:88.12%, valid:72.09%\n",
      "cnn acc  epoch [29/60],                             train:88.60%, valid:76.20%\n",
      "cnn acc  epoch [30/60],                             train:89.24%, valid:74.83%\n"
     ]
    },
    {
     "data": {
      "image/png": "[encoded data removed]",
      "text/plain": [
       "<Figure size 432x288 with 2 Axes>"
      ]
     },
     "metadata": {},
     "output_type": "display_data"
    },
    {
     "name": "stdout",
     "output_type": "stream",
     "text": [
      "aen loss epoch [31/60], train:1.2565,  valid:0.2401\n",
      "cnn loss epoch [31/60], train:0.3361,  valid:0.7809\n",
      "cnn acc  epoch [31/60],                             train:88.66%, valid:77.68%\n",
      "cnn acc  epoch [32/60],                             train:89.58%, valid:74.89%\n",
      "cnn acc  epoch [33/60],                             train:89.53%, valid:75.27%\n",
      "cnn acc  epoch [34/60],                             train:90.01%, valid:76.57%\n",
      "cnn acc  epoch [35/60],                             train:89.69%, valid:73.86%\n",
      "cnn acc  epoch [36/60],                             train:90.32%, valid:75.29%\n",
      "cnn acc  epoch [37/60],                             train:90.63%, valid:76.18%\n",
      "cnn acc  epoch [38/60],                             train:90.83%, valid:72.19%\n",
      "cnn acc  epoch [39/60],                             train:90.96%, valid:71.74%\n",
      "cnn acc  epoch [40/60],                             train:91.13%, valid:76.55%\n",
      "cnn acc  epoch [41/60],                             train:91.74%, valid:74.53%\n",
      "cnn acc  epoch [42/60],                             train:91.72%, valid:73.00%\n",
      "cnn acc  epoch [43/60],                             train:91.05%, valid:73.03%\n",
      "cnn acc  epoch [44/60],                             train:91.97%, valid:76.46%\n",
      "cnn acc  epoch [45/60],                             train:92.36%, valid:76.35%\n",
      "cnn acc  epoch [46/60],                             train:92.52%, valid:76.87%\n",
      "cnn acc  epoch [47/60],                             train:92.77%, valid:74.70%\n",
      "cnn acc  epoch [48/60],                             train:92.68%, valid:75.21%\n",
      "cnn acc  epoch [49/60],                             train:92.99%, valid:75.31%\n",
      "cnn acc  epoch [50/60],                             train:93.00%, valid:76.30%\n",
      "cnn acc  epoch [51/60],                             train:93.18%, valid:74.85%\n",
      "cnn acc  epoch [52/60],                             train:93.49%, valid:75.98%\n",
      "cnn acc  epoch [53/60],                             train:93.29%, valid:75.71%\n",
      "cnn acc  epoch [54/60],                             train:93.47%, valid:77.23%\n",
      "cnn acc  epoch [55/60],                             train:93.54%, valid:77.92%\n",
      "cnn acc  epoch [56/60],                             train:93.61%, valid:75.18%\n",
      "cnn acc  epoch [57/60],                             train:94.15%, valid:75.58%\n",
      "cnn acc  epoch [58/60],                             train:93.66%, valid:74.59%\n",
      "cnn acc  epoch [59/60],                             train:94.07%, valid:75.12%\n",
      "cnn acc  epoch [60/60],                             train:93.72%, valid:73.80%\n"
     ]
    }
   ],
   "source": [
    "train_loss_aen = []\n",
    "valid_loss_aen = []\n",
    "train_loss_cnn = []\n",
    "valid_loss_cnn = []\n",
    "train_acc_cnn = []\n",
    "valid_acc_cnn = []\n",
    "\n",
    "for epoch in range(num_epochs):\n",
    "    \n",
    "    # Let's train the model\n",
    "    epoch_train_loss_aen = 0.0\n",
    "    epoch_train_loss_cnn = 0.0\n",
    "    epoch_train_iter = 0\n",
    "    \n",
    "    epoch_val_loss_aen = 0.0\n",
    "    epoch_val_loss_cnn = 0.0\n",
    "    epoch_val_iter = 0\n",
    "    \n",
    "    running_train_corrects_cnn = 0.0\n",
    "    running_val_corrects_cnn = 0.0\n",
    "    \n",
    "    total_train = 0\n",
    "    total_val = 0\n",
    "    \n",
    "    autoencoder.train()\n",
    "    cnn.train()\n",
    "    \n",
    "    for image, label in cifar10_train_loader:\n",
    "        \n",
    "        # autoencoder training\n",
    "        image = Variable(image).cuda()\n",
    "        optimizer.zero_grad()\n",
    "        encoder_output, output = autoencoder(image)\n",
    "        \n",
    "        loss_aen = loss_func(output, image)\n",
    "        loss_aen.backward()\n",
    "        optimizer.step()\n",
    "        \n",
    "        total_train += label.size(0)\n",
    "        epoch_train_iter += 1\n",
    "        epoch_train_loss_aen += loss_aen.data.item()\n",
    "        \n",
    "        # cnn training\n",
    "        encoder_output = Variable(encoder_output).cuda()\n",
    "        optimizer_cnn.zero_grad()\n",
    "        output_cnn = cnn(encoder_output)\n",
    "        \n",
    "        label = Variable(label).cuda()\n",
    "        loss_cnn = loss_func_cnn(output_cnn, label)\n",
    "        loss_cnn.backward()\n",
    "        optimizer_cnn.step()\n",
    "        \n",
    "        _, preds = torch.max(output_cnn, 1)\n",
    "        running_train_corrects_cnn += torch.sum(preds == label.data)\n",
    "        \n",
    "        epoch_train_loss_cnn += loss_cnn.data.item()\n",
    "            \n",
    "    # Let's visualize the first image of the last batch in our validation set\n",
    "    if epoch % 30 == 0:\n",
    "        original = image[0].cpu()\n",
    "        decoded = output[0].cpu()\n",
    "\n",
    "        original = original.data.numpy()\n",
    "        decoded = decoded.data.numpy()\n",
    "\n",
    "        show_img(original, decoded)\n",
    "        \n",
    "    autoencoder.eval()\n",
    "    cnn.eval()\n",
    "    \n",
    "    for image, label in cifar10_valid_loader:\n",
    "        \n",
    "        image = Variable(image).cuda()\n",
    "        \n",
    "        encoder_output, output = autoencoder(image)\n",
    "        loss = loss_func(output, image)\n",
    "        \n",
    "        total_val += label.size(0)\n",
    "        epoch_val_iter += 1\n",
    "        epoch_val_loss_aen += loss.data.item()\n",
    "        \n",
    "        # cnn training\n",
    "        encoder_output = Variable(encoder_output).cuda()\n",
    "        output_cnn = cnn(encoder_output)\n",
    "        label = Variable(label).cuda()\n",
    "        \n",
    "        _, preds = torch.max(output_cnn, 1)\n",
    "        running_val_corrects_cnn += torch.sum(preds == label.data)\n",
    "                \n",
    "        loss_cnn = loss_func_cnn(output_cnn, label)\n",
    "        \n",
    "        epoch_val_loss_cnn += loss_cnn.data.item()\n",
    "           \n",
    "    if epoch % 30 == 0:\n",
    "        print('aen loss epoch [{}/{}], train:{:.4f},  valid:{:.4f}'.format(epoch+1, num_epochs, epoch_train_loss_aen, epoch_val_loss_aen))\n",
    "        print('cnn loss epoch [{}/{}], train:{:.4f},  valid:{:.4f}'.format(epoch+1, num_epochs, epoch_train_loss_cnn/epoch_train_iter, epoch_val_loss_cnn/epoch_val_iter))\n",
    "    print('cnn acc  epoch [{}/{}],                             train:{:.2f}%, valid:{:.2f}%'.format(epoch+1, num_epochs, running_train_corrects_cnn.float()/total_train*100, running_val_corrects_cnn.float()/total_val*100))    \n",
    "\n",
    "    train_loss_aen.append(epoch_train_loss_aen / epoch_train_iter)\n",
    "    valid_loss_aen.append(epoch_val_loss_aen / epoch_val_iter)\n",
    "    train_loss_cnn.append(epoch_train_loss_cnn / epoch_train_iter)\n",
    "    valid_loss_cnn.append(epoch_val_loss_cnn / epoch_val_iter)\n",
    "    train_acc_cnn.append(running_train_corrects_cnn.float()/total_train*100)\n",
    "    valid_acc_cnn.append(running_val_corrects_cnn.float()/total_val*100)\n",
    "    "
   ]
  },
  {
   "cell_type": "code",
   "execution_count": 15,
   "metadata": {
    "ExecuteTime": {
     "end_time": "2020-01-05T19:12:36.187525Z",
     "start_time": "2020-01-05T19:12:36.185183Z"
    }
   },
   "outputs": [],
   "source": [
    "# Save the model\n",
    "#torch.save(autoencoder.state_dict(), \"./5.autoencoder.pth\")"
   ]
  },
  {
   "cell_type": "code",
   "execution_count": 16,
   "metadata": {
    "ExecuteTime": {
     "end_time": "2020-01-05T19:12:36.403286Z",
     "start_time": "2020-01-05T19:12:36.188988Z"
    }
   },
   "outputs": [
    {
     "data": {
      "image/png": "[encoded data removed]",
      "text/plain": [
       "<Figure size 720x504 with 1 Axes>"
      ]
     },
     "metadata": {},
     "output_type": "display_data"
    }
   ],
   "source": [
    "fig = plt.figure(figsize=(10, 7))\n",
    "plt.plot(train_loss_aen, label='Train loss')\n",
    "plt.plot(valid_loss_aen, label='Validation loss')\n",
    "plt.legend()\n",
    "plt.show()"
   ]
  },
  {
   "cell_type": "code",
   "execution_count": 17,
   "metadata": {
    "ExecuteTime": {
     "end_time": "2020-01-05T19:12:36.610665Z",
     "start_time": "2020-01-05T19:12:36.404912Z"
    }
   },
   "outputs": [
    {
     "data": {
      "image/png": "[encoded data removed]",
      "text/plain": [
       "<Figure size 720x504 with 1 Axes>"
      ]
     },
     "metadata": {},
     "output_type": "display_data"
    }
   ],
   "source": [
    "fig = plt.figure(figsize=(10, 7))\n",
    "plt.plot(train_loss_cnn, label='Train loss')\n",
    "plt.plot(valid_loss_cnn, label='Validation loss')\n",
    "plt.legend()\n",
    "plt.show()"
   ]
  },
  {
   "cell_type": "code",
   "execution_count": 18,
   "metadata": {
    "ExecuteTime": {
     "end_time": "2020-01-05T19:12:36.853070Z",
     "start_time": "2020-01-05T19:12:36.612259Z"
    }
   },
   "outputs": [
    {
     "data": {
      "image/png": "[encoded data removed]",
      "text/plain": [
       "<Figure size 720x504 with 1 Axes>"
      ]
     },
     "metadata": {},
     "output_type": "display_data"
    }
   ],
   "source": [
    "fig = plt.figure(figsize=(10, 7))\n",
    "plt.plot(train_acc_cnn, label='Train acc')\n",
    "plt.plot(valid_acc_cnn, label='Validation acc')\n",
    "plt.legend()\n",
    "plt.show()"
   ]
  },
  {
   "cell_type": "markdown",
   "metadata": {},
   "source": [
    "## Observation:\n",
    "By seeing accuracy graph we can say that model is overfitting."
   ]
  },
  {
   "cell_type": "markdown",
   "metadata": {},
   "source": [
    "### Let's do standalone inference"
   ]
  },
  {
   "cell_type": "code",
   "execution_count": 19,
   "metadata": {
    "ExecuteTime": {
     "end_time": "2020-01-05T19:12:36.857261Z",
     "start_time": "2020-01-05T19:12:36.854663Z"
    }
   },
   "outputs": [],
   "source": [
    "classes = ('plane', 'car', 'bird', 'cat', 'deer', 'dog', 'frog', 'horse', 'ship', 'truck')"
   ]
  },
  {
   "cell_type": "code",
   "execution_count": 20,
   "metadata": {
    "ExecuteTime": {
     "end_time": "2020-01-05T19:12:36.862115Z",
     "start_time": "2020-01-05T19:12:36.858770Z"
    }
   },
   "outputs": [],
   "source": [
    "def im_convert(tensor):\n",
    "  image = tensor.cpu().clone().detach().numpy()\n",
    "  image = image.transpose(1, 2, 0)\n",
    "  image = image * np.array((0.5, 0.5, 0.5)) + np.array((0.5, 0.5, 0.5))\n",
    "  image = image.clip(0, 1)\n",
    "  return image"
   ]
  },
  {
   "cell_type": "code",
   "execution_count": 21,
   "metadata": {
    "ExecuteTime": {
     "end_time": "2020-01-05T19:12:37.406835Z",
     "start_time": "2020-01-05T19:12:36.863659Z"
    }
   },
   "outputs": [
    {
     "data": {
      "image/png": "[encoded data removed]",
      "text/plain": [
       "<Figure size 1800x288 with 10 Axes>"
      ]
     },
     "metadata": {},
     "output_type": "display_data"
    }
   ],
   "source": [
    "device = torch.device(\"cuda:0\" if torch.cuda.is_available() else \"cpu\")\n",
    "dataiter = iter(cifar10_valid_loader)\n",
    "images, labels = dataiter.next()\n",
    "images = images.to(device)\n",
    "labels = labels.to(device)\n",
    "\n",
    "encoder_output, denoised = autoencoder(images)\n",
    "encoder_output = encoder_output.to(device)\n",
    "\n",
    "label = cnn(encoder_output)\n",
    "\n",
    "_, preds = torch.max(label, 1)\n",
    "\n",
    "fig = plt.figure(figsize=(25, 4))\n",
    "\n",
    "for idx in np.arange(10):\n",
    "  ax = fig.add_subplot(2, 10, idx+1, xticks=[], yticks=[])\n",
    "  plt.imshow(im_convert(images[idx]))\n",
    "  ax.set_title(\"{} ({})\".format(str(classes[preds[idx].item()]), str(classes[labels[idx].item()])), color=(\"green\" if preds[idx]==labels[idx] else \"red\"))"
   ]
  },
  {
   "cell_type": "code",
   "execution_count": null,
   "metadata": {},
   "outputs": [],
   "source": []
  },
  {
   "cell_type": "code",
   "execution_count": null,
   "metadata": {},
   "outputs": [],
   "source": []
  },
  {
   "cell_type": "code",
   "execution_count": null,
   "metadata": {},
   "outputs": [],
   "source": []
  }
 ],
 "metadata": {
  "kernelspec": {
   "display_name": "Python 3",
   "language": "python",
   "name": "python3"
  },
  "language_info": {
   "codemirror_mode": {
    "name": "ipython",
    "version": 3
   },
   "file_extension": ".py",
   "mimetype": "text/x-python",
   "name": "python",
   "nbconvert_exporter": "python",
   "pygments_lexer": "ipython3",
   "version": "3.6.8"
  },
  "varInspector": {
   "cols": {
    "lenName": 16.0,
    "lenType": 16.0,
    "lenVar": 40.0
   },
   "kernels_config": {
    "python": {
     "delete_cmd_postfix": "",
     "delete_cmd_prefix": "del ",
     "library": "var_list.py",
     "varRefreshCmd": "print(var_dic_list())"
    },
    "r": {
     "delete_cmd_postfix": ") ",
     "delete_cmd_prefix": "rm(",
     "library": "var_list.r",
     "varRefreshCmd": "cat(var_dic_list()) "
    }
   },
   "types_to_exclude": [
    "module",
    "function",
    "builtin_function_or_method",
    "instance",
    "_Feature"
   ],
   "window_display": false
  }
 },
 "nbformat": 4,
 "nbformat_minor": 2
}
